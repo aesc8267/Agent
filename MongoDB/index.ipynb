{
 "cells": [
  {
   "cell_type": "code",
   "id": "initial_id",
   "metadata": {
    "collapsed": true,
    "ExecuteTime": {
     "end_time": "2025-03-26T05:07:33.861769Z",
     "start_time": "2025-03-26T05:07:33.398859Z"
    }
   },
   "source": [
    "from pymongo import MongoClient\n",
    "client=MongoClient(\"mongodb://localhost:27017/\")\n",
    "db=client[\"test\"]"
   ],
   "outputs": [],
   "execution_count": 1
  },
  {
   "metadata": {
    "ExecuteTime": {
     "end_time": "2025-03-26T06:19:23.400190Z",
     "start_time": "2025-03-26T06:19:23.396241Z"
    }
   },
   "cell_type": "code",
   "source": [
    "test={\n",
    "    \"name\":\"sjdkfajs\",\n",
    "    \"age\":\"12901\",\n",
    "    \"messsage\":\"hello world\"\n",
    "}"
   ],
   "id": "651057eb975e226e",
   "outputs": [],
   "execution_count": 7
  },
  {
   "metadata": {
    "ExecuteTime": {
     "end_time": "2025-03-26T06:19:49.075462Z",
     "start_time": "2025-03-26T06:19:49.071142Z"
    }
   },
   "cell_type": "code",
   "source": "collection=db[\"myCollection\"]",
   "id": "bd569ee7b00d4497",
   "outputs": [],
   "execution_count": 9
  },
  {
   "metadata": {
    "ExecuteTime": {
     "end_time": "2025-03-26T06:19:56.361085Z",
     "start_time": "2025-03-26T06:19:56.353862Z"
    }
   },
   "cell_type": "code",
   "source": "collection.insert_one(test)",
   "id": "ed6784e1ee99ce4a",
   "outputs": [
    {
     "data": {
      "text/plain": [
       "InsertOneResult(ObjectId('67e39c8c862ae41995019222'), acknowledged=True)"
      ]
     },
     "execution_count": 10,
     "metadata": {},
     "output_type": "execute_result"
    }
   ],
   "execution_count": 10
  },
  {
   "metadata": {
    "ExecuteTime": {
     "end_time": "2025-03-26T06:20:23.301662Z",
     "start_time": "2025-03-26T06:20:23.298656Z"
    }
   },
   "cell_type": "code",
   "source": [
    "test={\n",
    "    \"name\":\"sjdkfajs\",\n",
    "    \"age\":\"12901\",\n",
    "    \"messsages\":[\"hello world\",\"hello\",\"world\"]\n",
    "}"
   ],
   "id": "ace46f951d7c1f87",
   "outputs": [],
   "execution_count": 11
  },
  {
   "metadata": {
    "ExecuteTime": {
     "end_time": "2025-03-26T06:20:28.511575Z",
     "start_time": "2025-03-26T06:20:28.505052Z"
    }
   },
   "cell_type": "code",
   "source": "collection.insert_one(test)",
   "id": "a80ee525e1520516",
   "outputs": [
    {
     "data": {
      "text/plain": [
       "InsertOneResult(ObjectId('67e39cac862ae41995019223'), acknowledged=True)"
      ]
     },
     "execution_count": 12,
     "metadata": {},
     "output_type": "execute_result"
    }
   ],
   "execution_count": 12
  },
  {
   "metadata": {
    "ExecuteTime": {
     "end_time": "2025-03-26T06:23:56.659679Z",
     "start_time": "2025-03-26T06:23:56.656525Z"
    }
   },
   "cell_type": "code",
   "source": "data=collection.find()",
   "id": "eb3a3d8eb743986",
   "outputs": [],
   "execution_count": 25
  },
  {
   "metadata": {
    "ExecuteTime": {
     "end_time": "2025-03-26T06:23:51.645804Z",
     "start_time": "2025-03-26T06:23:51.642796Z"
    }
   },
   "cell_type": "code",
   "source": [
    "for doc in data:\n",
    "    print(doc)"
   ],
   "id": "3bb1652abe3f6042",
   "outputs": [],
   "execution_count": 23
  },
  {
   "metadata": {
    "ExecuteTime": {
     "end_time": "2025-03-26T06:24:02.323815Z",
     "start_time": "2025-03-26T06:24:02.318416Z"
    }
   },
   "cell_type": "code",
   "source": "data.to_list()",
   "id": "83d0ee55a421c97c",
   "outputs": [
    {
     "data": {
      "text/plain": [
       "[]"
      ]
     },
     "execution_count": 27,
     "metadata": {},
     "output_type": "execute_result"
    }
   ],
   "execution_count": 27
  },
  {
   "metadata": {},
   "cell_type": "code",
   "outputs": [],
   "execution_count": null,
   "source": "",
   "id": "c006289425fcea3"
  }
 ],
 "metadata": {
  "kernelspec": {
   "display_name": "Python 3",
   "language": "python",
   "name": "python3"
  },
  "language_info": {
   "codemirror_mode": {
    "name": "ipython",
    "version": 2
   },
   "file_extension": ".py",
   "mimetype": "text/x-python",
   "name": "python",
   "nbconvert_exporter": "python",
   "pygments_lexer": "ipython2",
   "version": "2.7.6"
  }
 },
 "nbformat": 4,
 "nbformat_minor": 5
}
