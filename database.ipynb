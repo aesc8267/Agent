{
 "cells": [
  {
   "cell_type": "code",
   "execution_count": null,
   "metadata": {},
   "outputs": [],
   "source": [
    "from transformers import AutoTokenizer\n",
    "from langchain.docstore.document import Document\n",
    "from langchain.text_splitter import RecursiveCharacterTextSplitter\n",
    "from langchain.vectorstores import FAISS\n",
    "from langchain_community.embeddings import HuggingFaceEmbeddings\n",
    "from langchain_community.vectorstores.utils import DistanceStrategy\n",
    "from tqdm import tqdm"
   ]
  },
  {
   "cell_type": "code",
   "execution_count": null,
   "metadata": {},
   "outputs": [],
   "source": [
    "import os \n",
    "import getpass\n",
    "\n",
    "os.environ[\"\"]"
   ]
  },
  {
   "cell_type": "code",
   "execution_count": null,
   "metadata": {},
   "outputs": [],
   "source": [
    "from langchain.document_loaders import TextLoader\n",
    "\n",
    "loader=TextLoader()\n",
    "documents=loader.load()\n",
    "text_splitter=RecursiveCharacterTextSplitter(chunksize=1000)"
   ]
  },
  {
   "cell_type": "code",
   "execution_count": null,
   "metadata": {},
   "outputs": [],
   "source": [
    "from langchain.embeddings import OpenAIEmbeddings\n",
    "openai_embedding=OpenAIEmbeddings(\n",
    "    model='text-embedding-v3',\n",
    "    base_url='https://dashscope.aliyuncs.com/compatible-mode/v1',\n",
    "    api_key='sk-615616fb539749dda57c80cc0928669d'\n",
    ")"
   ]
  },
  {
   "cell_type": "code",
   "execution_count": null,
   "metadata": {},
   "outputs": [],
   "source": [
    "query = \"How does AI improve healthcare?\"\n",
    "\n",
    "# Various embedding models\n",
    "documents = [\n",
    "    \"AI helps doctors diagnose diseases faster, improving patient outcomes.\",\n",
    "    \"AI can analyze medical images to detect conditions like cancer.\",\n",
    "    \"Machine learning predicts patient outcomes based on health data.\",\n",
    "    \"AI speeds up drug discovery by predicting the effectiveness of compounds.\",\n",
    "    \"AI monitors patients remotely, enabling proactive care for chronic diseases.\",\n",
    "    \"AI automates administrative tasks, saving time for healthcare workers.\",\n",
    "    \"NLP extracts insights from electronic health records for better care.\",\n",
    "    \"AI chatbots help with patient assessments and symptom checking.\",\n",
    "    \"AI improves drug manufacturing, ensuring better quality and efficiency.\",\n",
    "    \"AI optimizes hospital operations and reduces healthcare costs.\"\n",
    "]\n"
   ]
  },
  {
   "cell_type": "code",
   "execution_count": null,
   "metadata": {},
   "outputs": [],
   "source": [
    "query_vector = openai_embedding.embed_query(query)\n",
    "docs_vector = openai_embedding.embed_documents(documents)\n",
    "\n",
    "print(\"number of documents: \" + str(len(docs_vector)))\n",
    "print(\"dimension: \" + str(len(docs_vector[0])))\n",
    "\n",
    "# Part of the sliced ​​vector\n",
    "print(\"query: \" + str(query_vector[:5]))\n",
    "print(\"documents[0]: \" + str(docs_vector[0][:5]))\n",
    "print(\"documents[1]: \" + str(docs_vector[1][:5]))\n"
   ]
  },
  {
   "cell_type": "code",
   "execution_count": 21,
   "metadata": {},
   "outputs": [
    {
     "name": "stderr",
     "output_type": "stream",
     "text": [
      "C:\\Users\\aesc\\AppData\\Local\\Temp\\ipykernel_11108\\639524244.py:1: LangChainDeprecationWarning: The class `HuggingFaceEmbeddings` was deprecated in LangChain 0.2.2 and will be removed in 1.0. An updated version of the class exists in the :class:`~langchain-huggingface package and should be used instead. To use it run `pip install -U :class:`~langchain-huggingface` and import as `from :class:`~langchain_huggingface import HuggingFaceEmbeddings``.\n",
      "  embedding_model = HuggingFaceEmbeddings(model_name=\"thenlper/gte-small\")\n"
     ]
    }
   ],
   "source": [
    "embedding_model = HuggingFaceEmbeddings(model_name=\"thenlper/gte-small\")"
   ]
  },
  {
   "cell_type": "code",
   "execution_count": 23,
   "metadata": {},
   "outputs": [
    {
     "name": "stdout",
     "output_type": "stream",
     "text": [
      "dimension: 384\n",
      "query: [-0.05162813514471054, 0.012720980681478977, 0.037485625594854355, 0.004007917363196611, 0.03209904581308365]\n",
      "documents[0]: [-0.0332360602915287, 0.03179396316409111, 0.06003177911043167, 0.0018682117806747556, 0.02298063412308693]\n",
      "documents[1]: [-0.045107945799827576, -0.007123184390366077, 0.025276625528931618, -0.01711004227399826, 0.03819332644343376]\n"
     ]
    }
   ],
   "source": [
    "query_vector=embedding_model.embed_query(query)\n",
    "docs_vector = embedding_model.embed_documents(documents)\n",
    "print(\"dimension: \" + str(len(docs_vector[0])))\n",
    "\n",
    "# Part of the sliced ​​vector\n",
    "print(\"query: \" + str(query_vector[:5]))\n",
    "print(\"documents[0]: \" + str(docs_vector[0][:5]))\n",
    "print(\"documents[1]: \" + str(docs_vector[1][:5]))"
   ]
  },
  {
   "cell_type": "code",
   "execution_count": null,
   "metadata": {},
   "outputs": [],
   "source": []
  }
 ],
 "metadata": {
  "kernelspec": {
   "display_name": "agent",
   "language": "python",
   "name": "python3"
  },
  "language_info": {
   "codemirror_mode": {
    "name": "ipython",
    "version": 3
   },
   "file_extension": ".py",
   "mimetype": "text/x-python",
   "name": "python",
   "nbconvert_exporter": "python",
   "pygments_lexer": "ipython3",
   "version": "3.11.11"
  }
 },
 "nbformat": 4,
 "nbformat_minor": 2
}
