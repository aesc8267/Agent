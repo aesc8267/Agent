{
 "cells": [
  {
   "cell_type": "code",
   "execution_count": 28,
   "metadata": {},
   "outputs": [],
   "source": [
    "import matplotlib.pyplot as plt\n",
    "import numpy as np\n",
    "from typing import Any, Union, Optional\n",
    "\n",
    "data = [[1, 2, 3, 4], [5, 6, 7, 8]]\n",
    "\n",
    "\n",
    "# def forward(x:Union[list,np.array],height:Union[list,np.array]) -> Any:\n",
    "#     plt.bar(x,y)\n",
    "#     plt.xlabel(\"Index\")\n",
    "#     plt.ylabel(\"Value\")\n",
    "#     plt.title(\"Bar Graph\")\n",
    "#     filename='./images/bar_graph.png'\n",
    "#     plt.savefig(filename)\n",
    "#     return filename\n",
    "def forward(\n",
    "    x: Union[list, np.array],\n",
    "    height: Union[list, np.array],\n",
    "    bar_labels: Optional[list]=None,\n",
    "    bar_colors: Optional[list]=None,\n",
    "    ylabel: Optional[str]=None,\n",
    "    title: Optional[str]=None,\n",
    "    legend: Optional[str]=None,\n",
    ") -> Any:\n",
    "    plt.rcParams[\"font.sans-serif\"]=[\"SimHei\"] #设置字体\n",
    "    plt.rcParams[\"axes.unicode_minus\"]=False #该语句解决图像中的“-”负号的乱码问题\n",
    "    fig, ax = plt.subplots()\n",
    "    ax.bar(x, height, color=bar_colors, label=bar_labels)\n",
    "\n",
    "    ax.set_ylabel(ylabel)\n",
    "    ax.set_title(title)\n",
    "    ax.legend(title=legend)\n",
    "    filename = \"./images/bar_graph.png\"\n",
    "    plt.savefig(filename)    \n",
    "    return ax"
   ]
  },
  {
   "cell_type": "code",
   "execution_count": 34,
   "metadata": {},
   "outputs": [
    {
     "data": {
      "image/png": "[encoded data removed]",
      "text/plain": [
       "<Figure size 640x480 with 1 Axes>"
      ]
     },
     "metadata": {},
     "output_type": "display_data"
    }
   ],
   "source": [
    "\n",
    "x = [1, 2, 3, 4]                                                                                                 \n",
    "height = [2, 3, 4, 5]                                                                                            \n",
    "bar_labels = ['a', 'b', 'c', 'd']                                                                                \n",
    "bar_colors = ['red', 'blue', 'green', 'orange']                                                                  \n",
    "                                                                                                                \n",
    "ax = forward(x=x, height=height, bar_labels=bar_labels, bar_colors=bar_colors, ylabel='Y values', title='中文', legend='Data')  \n",
    "# ax.plot(x,height)"
   ]
  },
  {
   "cell_type": "code",
   "execution_count": null,
   "metadata": {},
   "outputs": [],
   "source": []
  }
 ],
 "metadata": {
  "kernelspec": {
   "display_name": "Agent",
   "language": "python",
   "name": "python3"
  },
  "language_info": {
   "codemirror_mode": {
    "name": "ipython",
    "version": 3
   },
   "file_extension": ".py",
   "mimetype": "text/x-python",
   "name": "python",
   "nbconvert_exporter": "python",
   "pygments_lexer": "ipython3",
   "version": "3.11.8"
  }
 },
 "nbformat": 4,
 "nbformat_minor": 2
}
