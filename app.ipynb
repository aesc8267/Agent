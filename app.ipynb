{
 "cells": [
  {
   "cell_type": "code",
   "metadata": {},
   "source": [
    "from smolagents import CodeAgent,OpenAIServerModel,tool,HfApiModel,DuckDuckGoSearchTool\n",
    "model=OpenAIServerModel(model_id='qwen-max',api_base=\"https://dashscope.aliyuncs.com/compatible-mode/v1\",api_key=\"sk-615616fb539749dda57c80cc0928669d\")\n",
    "# model = HfApiModel(model_id=\"Qwen/Qwen2.5-Coder-32B-Instruct\", provider=\"together\")"
   ],
   "outputs": [],
   "execution_count": null
  },
  {
   "cell_type": "code",
   "metadata": {},
   "source": [
    "import yaml\n",
    "with open('prompts.yaml','r') as stream:\n",
    "    prompt_templates=yaml.safe_load(stream)\n"
   ],
   "outputs": [],
   "execution_count": null
  },
  {
   "cell_type": "code",
   "metadata": {},
   "source": [
    "#使用rag\n",
    "from langchain.vectorstores import FAISS\n",
    "from tools.Retriever_tool import RetrieverTool\n",
    "from langchain.embeddings import HuggingFaceEmbeddings\n",
    "vectordb=FAISS.load_local(\"./vectordb\",embeddings=HuggingFaceEmbeddings(model_name=\"thenlper/gte-small\"),allow_dangerous_deserialization=True)\n",
    "retrievertool=RetrieverTool(vectordb=vectordb)"
   ],
   "outputs": [],
   "execution_count": null
  },
  {
   "cell_type": "code",
   "metadata": {
    "ExecuteTime": {
     "end_time": "2025-03-26T03:00:14.647571Z",
     "start_time": "2025-03-26T03:00:14.465721Z"
    }
   },
   "source": [
    "from tools.final_answer import FinalAnswerTool\n",
    "from tools.vision_comprehension import VisionComprehension\n",
    "from tools.file_io import file_writer\n",
    "from tools.visit_webpage import VisitWebpageTool\n",
    "\n",
    "agent = CodeAgent(\n",
    "    model=model,\n",
    "    tools=[DuckDuckGoSearchTool(), file_writer(), FinalAnswerTool(), \n",
    "           VisitWebpageTool(),\n",
    "           VisionComprehension(),\n",
    "           retrievertool],\n",
    "    additional_authorized_imports=[\n",
    "        \"flask\",\n",
    "        \"os\",\n",
    "        \"matplotlib\",\n",
    "        \"pandas\",\n",
    "        \"numpy\",\n",
    "        \"seaborn\",\n",
    "        \"sklearn\",\n",
    "        \"torch\",\n",
    "        \"transformers\",\n",
    "        \"tensorflow\",\n",
    "        \"keras\",\n",
    "        \"cv2\",\n",
    "        \"PIL\",\n",
    "        \"matplotlib.pyplot\",\n",
    "        \"matplotlib.pyplot as plt\",\n",
    "        \"pandas as pd\",\n",
    "        \"numpy as np\",\n",
    "        \"seaborn as sns\",\n",
    "        \"sklearn as sk\",\n",
    "        \"torch as torch\",\n",
    "        \"transformers as transformers\",\n",
    "        \"tensorflow as tf\",\n",
    "        \"keras as keras\",\n",
    "        \"cv2 as cv2\",\n",
    "        \"PIL as PIL\",\n",
    "        \"matplotlib.pyplot as plt\",\n",
    "        \"matplotlib.pyplot as plt\",\n",
    "        \"pandas as pd\",\n",
    "        \"numpy as np\",\n",
    "        \"seaborn as sns\",\n",
    "        \"sklearn as sk\",\n",
    "        \"torch as torch\",\n",
    "        \"transformers as transformers\",\n",
    "        \"tensorflow as tf\",\n",
    "        \"keras as keras\",\n",
    "        \"cv2 as cv2\",\n",
    "        \"PIL as PIL\",\n",
    "    ]\n",
    "    \n",
    ")"
   ],
   "outputs": [],
   "execution_count": 14
  },
  {
   "cell_type": "code",
   "metadata": {
    "ExecuteTime": {
     "end_time": "2025-03-26T15:35:11.851992Z",
     "start_time": "2025-03-26T15:35:11.545163Z"
    }
   },
   "source": [
    "agent.run(\n",
    "    \"'./data/iris.csv' 是一个鸢尾花数据集，请你帮我完成对它的数据分析任务，请牢记，一定要先规划分析流程，即先进行planning，然后按照分析流程来完成分析任务，所有结果包括图表保存在./workspace/result1目录下    \"\n",
    ")"
   ],
   "outputs": [
    {
     "ename": "NameError",
     "evalue": "name 'agent' is not defined",
     "output_type": "error",
     "traceback": [
      "\u001B[1;31m---------------------------------------------------------------------------\u001B[0m",
      "\u001B[1;31mNameError\u001B[0m                                 Traceback (most recent call last)",
      "Cell \u001B[1;32mIn[1], line 1\u001B[0m\n\u001B[1;32m----> 1\u001B[0m \u001B[43magent\u001B[49m\u001B[38;5;241m.\u001B[39mrun(\n\u001B[0;32m      2\u001B[0m     \u001B[38;5;124m\"\u001B[39m\u001B[38;5;124m'\u001B[39m\u001B[38;5;124m./data/iris.csv\u001B[39m\u001B[38;5;124m'\u001B[39m\u001B[38;5;124m 是一个鸢尾花数据集，请你帮我完成对它的数据分析任务，请牢记，一定要先规划分析流程，即先进行planning，然后按照分析流程来完成分析任务，所有结果包括图表保存在./workspace/result1目录下    \u001B[39m\u001B[38;5;124m\"\u001B[39m\n\u001B[0;32m      3\u001B[0m )\n",
      "\u001B[1;31mNameError\u001B[0m: name 'agent' is not defined"
     ]
    }
   ],
   "execution_count": 1
  },
  {
   "cell_type": "code",
   "metadata": {},
   "source": "agent.run(task=\"请分析上面数据挖掘得到的结果，进一步深入挖掘，并形成分析报告，最后保存在./workspace/result2 里面\",reset=False)",
   "outputs": [],
   "execution_count": null
  },
  {
   "metadata": {},
   "cell_type": "code",
   "source": "rs=agent.run(task=\"请浏览这个网站https://blog.csdn.net/ling620/article/details/120035699，整理出有用的信息，保存为markdown ，到./workspace/result3 当中\",reset=False)",
   "outputs": [],
   "execution_count": null
  },
  {
   "metadata": {
    "ExecuteTime": {
     "end_time": "2025-03-26T03:08:03.541216Z",
     "start_time": "2025-03-26T03:08:03.536578Z"
    }
   },
   "cell_type": "code",
   "source": "his_ms=agent.write_memory_to_messages(summary_mode=True)",
   "outputs": [],
   "execution_count": 20
  },
  {
   "metadata": {
    "ExecuteTime": {
     "end_time": "2025-03-26T03:08:09.531278Z",
     "start_time": "2025-03-26T03:08:09.526257Z"
    }
   },
   "cell_type": "code",
   "source": [
    "for ms in his_ms:\n",
    "    print(ms['role'])"
   ],
   "outputs": [
    {
     "name": "stdout",
     "output_type": "stream",
     "text": [
      "MessageRole.USER\n",
      "MessageRole.TOOL_CALL\n",
      "MessageRole.TOOL_RESPONSE\n",
      "MessageRole.TOOL_CALL\n",
      "MessageRole.TOOL_RESPONSE\n",
      "MessageRole.TOOL_CALL\n",
      "MessageRole.TOOL_RESPONSE\n",
      "MessageRole.TOOL_CALL\n",
      "MessageRole.TOOL_RESPONSE\n",
      "MessageRole.TOOL_CALL\n",
      "MessageRole.TOOL_RESPONSE\n",
      "MessageRole.TOOL_RESPONSE\n",
      "MessageRole.TOOL_CALL\n",
      "MessageRole.TOOL_RESPONSE\n",
      "MessageRole.TOOL_CALL\n",
      "MessageRole.TOOL_RESPONSE\n"
     ]
    }
   ],
   "execution_count": 22
  },
  {
   "metadata": {
    "ExecuteTime": {
     "end_time": "2025-03-26T02:59:50.378001Z",
     "start_time": "2025-03-26T02:59:50.373911Z"
    }
   },
   "cell_type": "code",
   "source": "his1=his_ms",
   "outputs": [],
   "execution_count": 13
  },
  {
   "metadata": {},
   "cell_type": "code",
   "outputs": [],
   "execution_count": null,
   "source": ""
  }
 ],
 "metadata": {
  "kernelspec": {
   "display_name": "agent",
   "language": "python",
   "name": "python3"
  },
  "language_info": {
   "codemirror_mode": {
    "name": "ipython",
    "version": 3
   },
   "file_extension": ".py",
   "mimetype": "text/x-python",
   "name": "python",
   "nbconvert_exporter": "python",
   "pygments_lexer": "ipython3",
   "version": "3.11.11"
  }
 },
 "nbformat": 4,
 "nbformat_minor": 2
}
