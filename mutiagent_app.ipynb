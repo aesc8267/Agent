{
 "cells": [
  {
   "cell_type": "code",
   "metadata": {},
   "source": [
    "import yaml\n",
    "with open('prompts.yaml','r') as stream:\n",
    "    prompt_templates=yaml.safe_load(stream)\n"
   ],
   "outputs": [],
   "execution_count": null
  },
  {
   "cell_type": "code",
   "metadata": {},
   "source": [
    "# 使用rag\n",
    "from langchain.vectorstores import FAISS\n",
    "from tools.Retriever_tool import RetrieverTool\n",
    "from langchain.embeddings import HuggingFaceEmbeddings\n",
    "vectordb = FAISS.load_local(\n",
    "    \"./vectordb\",\n",
    "    embeddings=HuggingFaceEmbeddings(model_name=\"thenlper/gte-small\"),\n",
    "    allow_dangerous_deserialization=True,\n",
    ")\n",
    "retrievertool = RetrieverTool(vectordb=vectordb)"
   ],
   "outputs": [],
   "execution_count": null
  },
  {
   "cell_type": "code",
   "metadata": {},
   "source": [
    "#知识检索 agent\n",
    "from smolagents import CodeAgent,OpenAIServerModel,tool,HfApiModel,DuckDuckGoSearchTool\n",
    "from tools.final_answer import FinalAnswerTool\n",
    "from tools.visit_webpage import VisitWebpageTool\n",
    "from tools.vision_comprehension import VisionComprehension\n",
    "from tools.file_io import file_writer\n",
    "model=OpenAIServerModel(model_id='qwen-max',api_base=\"https://dashscope.aliyuncs.com/compatible-mode/v1\",api_key=\"sk-615616fb539749dda57c80cc0928669d\")\n",
    "# model = HfApiModel(model_id=\"Qwen/Qwen2.5-Coder-32B-Instruct\", provider=\"together\")\n",
    "qwen_agent=CodeAgent(model=model,\n",
    "                     tools=[DuckDuckGoSearchTool(),file_writer(),retrievertool,VisitWebpageTool()],\n",
    "                     additional_authorized_imports=['flask','os','matplotlib','pandas','numpy','seaborn','sklearn','torch','transformers','tensorflow','keras','cv2','PIL','matplotlib.pyplot','matplotlib.pyplot as plt','pandas as pd','numpy as np','seaborn as sns','sklearn as sk','torch as torch','transformers as transformers','tensorflow as tf','keras as keras','cv2 as cv2','PIL as PIL','matplotlib.pyplot as plt','matplotlib.pyplot as plt','pandas as pd','numpy as np','seaborn as sns','sklearn as sk','torch as torch','transformers as transformers','tensorflow as tf','keras as keras','cv2 as cv2','PIL as PIL'],\n",
    "                     prompt_templates=prompt_templates,\n",
    "                     name='qwen_agent',\n",
    "                     description='information extraction agent,can do rag and web search')\n"
   ],
   "outputs": [],
   "execution_count": null
  },
  {
   "cell_type": "code",
   "metadata": {},
   "source": [
    "#管理agent\n",
    "\n",
    "from smolagents import CodeAgent,OpenAIServerModel,tool,HfApiModel,DuckDuckGoSearchTool\n",
    "model=OpenAIServerModel(model_id='deepseek-v3',api_base=\"https://dashscope.aliyuncs.com/compatible-mode/v1\",api_key=\"sk-615616fb539749dda57c80cc0928669d\")\n",
    "# model = HfApiModel(model_id=\"Qwen/Qwen2.5-Coder-32B-Instruct\", prtogether\")\n",
    "manage_agent=CodeAgent(model=model,\n",
    "                       tools=[DuckDuckGoSearchTool(),file_writer(),FinalAnswerTool(),retrievertool],\n",
    "                       additional_authorized_imports=['flask','os','matplotlib','pandas','numpy','seaborn','sklearn','torch','transformers','tensorflow','keras','cv2','PIL','matplotlib.pyplot','matplotlib.pyplot as plt','pandas as pd','numpy as np','seaborn as sns','sklearn as sk','torch as torch','transformers as transformers','tensorflow as tf','keras as keras','cv2 as cv2','PIL as PIL','matplotlib.pyplot as plt','matplotlib.pyplot as plt','pandas as pd','numpy as np','seaborn as sns','sklearn as sk','torch as torch','transformers as transformers','tensorflow as tf','keras as keras','cv2 as cv2','PIL as PIL'],\n",
    "                       prompt_templates=prompt_templates,\n",
    "                       max_steps=15,\n",
    "                       planning_interval=5,\n",
    "                       managed_agents=[qwen_agent]\n",
    "                       )"
   ],
   "outputs": [],
   "execution_count": null
  },
  {
   "cell_type": "code",
   "metadata": {},
   "source": [
    "manage_agent.visualize()"
   ],
   "outputs": [],
   "execution_count": null
  },
  {
   "metadata": {},
   "cell_type": "code",
   "source": [
    "import os\n",
    "import  base64\n",
    "# Get keys for your project from the project settings page: https://cloud.langfuse.com\n",
    "LANGFUSE_PUBLIC_KEY =  \"pk-lf-1b85b139-ccaf-4cd4-a9e2-ec34c71a1746\" \n",
    "LANGFUSE_SECRET_KEY = \"sk-lf-73fe4c78-d03c-413f-98f8-471424af62b6\" \n",
    "os.environ[\"LANGFUSE_PUBLIC_KEY\"] = \"pk-lf-1b85b139-ccaf-4cd4-a9e2-ec34c71a1746\" \n",
    "os.environ[\"LANGFUSE_SECRET_KEY\"] = \"sk-lf-73fe4c78-d03c-413f-98f8-471424af62b6\"\n",
    "os.environ[\"LANGFUSE_HOST\"] = \"https://us.cloud.langfuse.com\" # 🇪🇺 EU region\n",
    "# os.environ[\"LANGFUSE_HOST\"] = \"https://us.cloud.langfuse.com\" # 🇺🇸 US region\n",
    "from langfuse.callback import CallbackHandler\n",
    "LANGFUSE_AUTH = base64.b64encode(\n",
    "    f\"{LANGFUSE_PUBLIC_KEY}:{LANGFUSE_SECRET_KEY}\".encode()\n",
    ").decode()\n",
    "\n",
    "os.environ[\"OTEL_EXPORTER_OTLP_ENDPOINT\"] = os.environ.get(\"LANGFUSE_HOST\") + \"/api/public/otel\"\n",
    "os.environ[\"OTEL_EXPORTER_OTLP_HEADERS\"] = f\"Authorization=Basic {LANGFUSE_AUTH}\""
   ],
   "outputs": [],
   "execution_count": null
  },
  {
   "metadata": {},
   "cell_type": "code",
   "source": [
    "from opentelemetry.sdk.trace import TracerProvider\n",
    "from openinference.instrumentation.smolagents import SmolagentsInstrumentor\n",
    "from opentelemetry.exporter.otlp.proto.http.trace_exporter import OTLPSpanExporter\n",
    "from opentelemetry.sdk.trace.export import SimpleSpanProcessor\n",
    " \n",
    "# Create a TracerProvider for OpenTelemetry\n",
    "trace_provider = TracerProvider()\n",
    "\n",
    "# Add a SimpleSpanProcessor with the OTLPSpanExporter to send traces\n",
    "trace_provider.add_span_processor(SimpleSpanProcessor(OTLPSpanExporter()))\n",
    "\n",
    "# Set the global default tracer provider\n",
    "from opentelemetry import trace\n",
    "trace.set_tracer_provider(trace_provider)\n",
    "tracer = trace.get_tracer(__name__)\n",
    "\n",
    "# Instrument smolagents with the configured provider\n",
    "SmolagentsInstrumentor().instrument(tracer_provider=trace_provider)"
   ],
   "outputs": [],
   "execution_count": null
  },
  {
   "cell_type": "code",
   "metadata": {},
   "source": [
    "manage_agent.run(\n",
    "\"'./data/iris.csv' 是一个鸢尾花数据集，请你帮我完成对它的数据分析任务，请牢记，一定要先规划分析流程，即先进行planning，然后按照分析流程来完成分析任务，所有结果包括图表保存在./workspace/result1目录下    \"\n",
    ", )"
   ],
   "outputs": [],
   "execution_count": null
  },
  {
   "metadata": {
    "ExecuteTime": {
     "end_time": "2025-03-26T15:41:42.773139Z",
     "start_time": "2025-03-26T15:41:42.767615Z"
    }
   },
   "cell_type": "code",
   "source": "ms=manage_agent.write_memory_to_messages(summary_mode=True)",
   "outputs": [],
   "execution_count": 10
  },
  {
   "metadata": {
    "ExecuteTime": {
     "end_time": "2025-03-26T15:41:54.553041Z",
     "start_time": "2025-03-26T15:41:54.545935Z"
    }
   },
   "cell_type": "code",
   "source": "",
   "outputs": [
    {
     "data": {
      "text/plain": [
       "16"
      ]
     },
     "execution_count": 12,
     "metadata": {},
     "output_type": "execute_result"
    }
   ],
   "execution_count": 12
  },
  {
   "metadata": {},
   "cell_type": "code",
   "source": "ms[1]",
   "outputs": [],
   "execution_count": null
  },
  {
   "metadata": {},
   "cell_type": "code",
   "source": [
    "for i in ms:\n",
    "    print(i['role'])"
   ],
   "outputs": [],
   "execution_count": null
  },
  {
   "metadata": {
    "ExecuteTime": {
     "end_time": "2025-03-26T15:42:49.183408Z",
     "start_time": "2025-03-26T15:42:48.950181Z"
    }
   },
   "cell_type": "code",
   "source": [
    "from pymongo import MongoClient\n",
    "client=MongoClient(\"mongodb://localhost:27017/\")\n",
    "db=client[\"test\"]"
   ],
   "outputs": [],
   "execution_count": 13
  },
  {
   "metadata": {
    "ExecuteTime": {
     "end_time": "2025-03-26T15:43:00.483042Z",
     "start_time": "2025-03-26T15:43:00.473403Z"
    }
   },
   "cell_type": "code",
   "source": "db.agent.insert_many(ms)",
   "outputs": [
    {
     "data": {
      "text/plain": [
       "InsertManyResult([ObjectId('67e4207c8cd9eeee2f46078b'), ObjectId('67e4207c8cd9eeee2f46078c'), ObjectId('67e4207c8cd9eeee2f46078d'), ObjectId('67e4207c8cd9eeee2f46078e'), ObjectId('67e4207c8cd9eeee2f46078f'), ObjectId('67e4207c8cd9eeee2f460790'), ObjectId('67e4207c8cd9eeee2f460791'), ObjectId('67e4207c8cd9eeee2f460792'), ObjectId('67e4207c8cd9eeee2f460793'), ObjectId('67e4207c8cd9eeee2f460794'), ObjectId('67e4207c8cd9eeee2f460795'), ObjectId('67e4207c8cd9eeee2f460796'), ObjectId('67e4207c8cd9eeee2f460797'), ObjectId('67e4207c8cd9eeee2f460798'), ObjectId('67e4207c8cd9eeee2f460799'), ObjectId('67e4207c8cd9eeee2f46079a')], acknowledged=True)"
      ]
     },
     "execution_count": 15,
     "metadata": {},
     "output_type": "execute_result"
    }
   ],
   "execution_count": 15
  },
  {
   "metadata": {
    "ExecuteTime": {
     "end_time": "2025-03-26T15:43:36.318917Z",
     "start_time": "2025-03-26T15:43:36.312905Z"
    }
   },
   "cell_type": "code",
   "source": "cursor=db.agent.find()",
   "outputs": [],
   "execution_count": 17
  },
  {
   "metadata": {},
   "cell_type": "code",
   "source": "len(ms)",
   "outputs": [],
   "execution_count": null
  },
  {
   "metadata": {},
   "cell_type": "code",
   "source": [
    "temp=[]\n",
    "for step in manage_agent.memory.steps:\n",
    "    temp.append(step.to_messages(summary_mode=True))"
   ],
   "outputs": [],
   "execution_count": null
  },
  {
   "metadata": {},
   "cell_type": "code",
   "source": "len(temp)",
   "outputs": [],
   "execution_count": null
  },
  {
   "metadata": {},
   "cell_type": "code",
   "source": [
    "for e in temp:\n",
    "    print(len(e))"
   ],
   "outputs": [],
   "execution_count": null
  },
  {
   "metadata": {},
   "cell_type": "code",
   "source": [
    "from smolagents import ActionStep,PlanningStep,TaskStep\n",
    "messages_step=[]\n",
    "for i,step in enumerate(manage_agent.memory.steps):\n",
    "    record={\n",
    "    }\n",
    "    if isinstance(step,ActionStep):\n",
    "        print('ActionStep',i)\n",
    "        record['instance']='ActionStep'\n",
    "        record['content']=step.dict()\n",
    "    elif isinstance(step,PlanningStep):\n",
    "        print('PlanningStep',i)\n",
    "        record['instance']='PlanningStep'\n",
    "        record['content']=step.dict()\n",
    "    elif isinstance(step,TaskStep):\n",
    "        print('TaskStep',i)\n",
    "        record['instance']='TaskStep'\n",
    "        record['content']=step.dict()\n",
    "    else:\n",
    "        print(step)\n",
    "    messages_step.append(record)\n",
    "    "
   ],
   "outputs": [],
   "execution_count": null
  },
  {
   "metadata": {},
   "cell_type": "code",
   "source": "db.drop_collection('myCollection')",
   "outputs": [],
   "execution_count": null
  },
  {
   "metadata": {},
   "cell_type": "code",
   "source": "db.create_collection('agent')",
   "outputs": [],
   "execution_count": null
  },
  {
   "metadata": {},
   "cell_type": "code",
   "source": "db['agent'].find()",
   "outputs": [],
   "execution_count": null
  },
  {
   "metadata": {},
   "cell_type": "code",
   "source": "manage_agent.memory",
   "outputs": [],
   "execution_count": null
  },
  {
   "metadata": {},
   "cell_type": "code",
   "source": "",
   "outputs": [],
   "execution_count": null
  }
 ],
 "metadata": {
  "kernelspec": {
   "display_name": "agent",
   "language": "python",
   "name": "python3"
  },
  "language_info": {
   "codemirror_mode": {
    "name": "ipython",
    "version": 3
   },
   "file_extension": ".py",
   "mimetype": "text/x-python",
   "name": "python",
   "nbconvert_exporter": "python",
   "pygments_lexer": "ipython3",
   "version": "3.11.11"
  }
 },
 "nbformat": 4,
 "nbformat_minor": 2
}
